{
  "nbformat": 4,
  "nbformat_minor": 0,
  "metadata": {
    "colab": {
      "name": "Learn any language.ipynb",
      "provenance": [],
      "authorship_tag": "ABX9TyMnPrHJ10x+tZFYproegLJV",
      "include_colab_link": true
    },
    "kernelspec": {
      "name": "python3",
      "display_name": "Python 3"
    },
    "language_info": {
      "name": "python"
    }
  },
  "cells": [
    {
      "cell_type": "markdown",
      "metadata": {
        "id": "view-in-github",
        "colab_type": "text"
      },
      "source": [
        "<a href=\"https://colab.research.google.com/github/Shambhavi-Gupta/Learn-any-language/blob/main/Learn_any_language.ipynb\" target=\"_parent\"><img src=\"https://colab.research.google.com/assets/colab-badge.svg\" alt=\"Open In Colab\"/></a>"
      ]
    },
    {
      "cell_type": "code",
      "metadata": {
        "id": "BB9LB36BTI1Y"
      },
      "source": [
        "import googletrans\n",
        "import speech_recognition as sr\n",
        "import gtts\n",
        "import playsound\n",
        "\n",
        "recognizer = sr.Recognizer()\n",
        "translator = googletrans.Translator()\n",
        "lang_input = \"it-IT\"\n",
        "lang_output = \"en\"\n",
        "try:\n",
        "    with sr.Microphone() as source:\n",
        "        print(\"You can start speaking now ....\")\n",
        "        voice = recognizer.listen(source)\n",
        "        text = recognizer.recognize_google(voice, language=lang_input)\n",
        "        print(text)\n",
        "except:\n",
        "    pass\n",
        "\n",
        "translated = translator.translate(text, dest=lang_output)\n",
        "print(translated.text)\n",
        "converted_audio = gtts.gTTS(translated.text, lang=lang_output)\n",
        "converted_audio.save(\"holi.mp3\")\n",
        "playsound.playsound('holi.mp3')"
      ],
      "execution_count": null,
      "outputs": []
    }
  ]
}